{
 "cells": [
  {
   "metadata": {},
   "cell_type": "markdown",
   "source": [
    "### Model testing\n",
    "Trying to identify how models work in different configurations"
   ],
   "id": "cfc0820b8d0a5f2c"
  },
  {
   "metadata": {
    "ExecuteTime": {
     "end_time": "2025-04-19T19:33:20.683665Z",
     "start_time": "2025-04-19T19:33:18.656558Z"
    }
   },
   "cell_type": "code",
   "source": [
    "from sklearn.preprocessing import LabelEncoder\n",
    "from src.myscripts import prepare_data\n",
    "import pandas as pd\n",
    "import contextlib\n",
    "import sys\n",
    "from sklearn.metrics import accuracy_score\n",
    "from src.myscripts.model import Conv1DClassifier\n",
    "import os\n",
    "import torch\n",
    "from torch.utils.data import TensorDataset, DataLoader\n",
    "import numpy as np\n",
    "import config\n",
    "from src.myscripts.train import ModelTrainer\n",
    "\n",
    "data = pd.read_csv(f\"{config.DATAFRAMES_DIR_PATH}/sound_data.csv\")\n",
    "splits_path = config.DATA_SPLIT_SAVE_DIR_PATH\n",
    "path=config.DATA_SPLIT_SAVE_DIR_PATH\n",
    "device = torch.device(\"cuda\" if torch.cuda.is_available() else \"cpu\")\n",
    "x_train, _, _, _, _, _ = prepare_data.prepare_data_for_model(data, -1, LabelEncoder, [0.7, 0.2, 0.1], save_to_npy=False)\n",
    "input_shape = x_train.shape[1:]\n",
    "\n",
    "\n",
    "@contextlib.contextmanager\n",
    "def suppress_stdout():\n",
    "    with open(os.devnull, 'w') as fnull:\n",
    "        old_stdout = sys.stdout\n",
    "        try:\n",
    "            sys.stdout = fnull\n",
    "            yield\n",
    "        finally:\n",
    "            sys.stdout = old_stdout\n",
    "\n",
    "\n",
    "\n",
    "def evaluate_avarage_model_accuracy(model, device, num_epochs:int, early_stopping_rounds:int, num_of_samples:int):\n",
    "    model_trainer = ModelTrainer(model, device)\n",
    "    \n",
    "    #Przekonwertowanie jezeli etykiety bylyby w One-hot\n",
    "  \n",
    "    acc_sum=0\n",
    "    \n",
    "\n",
    "    for i in range(num_of_samples):\n",
    "        x_train, y_train, x_val, y_val, x_test, y_test = prepare_data.prepare_data_for_model(data, -1, LabelEncoder, [0.7, 0.2, 0.1], random_state=np.random.randint(0,10000), save_to_npy=False)\n",
    "        x_train = x_train.astype(np.float32)\n",
    "        x_val = x_val.astype(np.float32)\n",
    "        y_train = y_train.astype(\"long\")\n",
    "        y_val = y_val.astype(\"long\")\n",
    "        x_test = x_test.astype(np.float32)\n",
    "        y_test = y_test.astype(\"long\")\n",
    "        x_train_tensor = torch.tensor(x_train, dtype=torch.float32)\n",
    "        y_train_tensor = torch.tensor(y_train, dtype=torch.long)\n",
    "        x_val_tensor = torch.tensor(x_val, dtype=torch.float32)\n",
    "        y_val_tensor = torch.tensor(y_val, dtype=torch.long)\n",
    "        train_dataset = TensorDataset(x_train_tensor, y_train_tensor)\n",
    "        val_dataset = TensorDataset(x_val_tensor, y_val_tensor)\n",
    "        x_test_tensor = torch.tensor(x_test).to(device)\n",
    "        if len(y_test.shape) > 1 and y_test.shape[1] > 1:\n",
    "            true_labels = np.argmax(y_test, axis=1)\n",
    "        else:\n",
    "            true_labels = y_test\n",
    "    \n",
    "        with suppress_stdout():\n",
    "            model_trainer.train_model(train_dataset, val_dataset, epochs=num_epochs,early_stopping_rounds=early_stopping_rounds)\n",
    "        sample_model=model_trainer.get_trained_model()\n",
    "        sample_model.eval()\n",
    "        with torch.no_grad():\n",
    "            outputs = sample_model(x_test_tensor)\n",
    "            _, predictions = torch.max(outputs, 1)\n",
    "        \n",
    "        predictions = predictions.cpu().numpy()\n",
    "        accuracy = accuracy_score(true_labels, predictions)\n",
    "        acc_sum+=accuracy\n",
    "        print(f\"\\rSamples done: {i+1}/{num_of_samples}\\033[K\", end=\"\")\n",
    "    print(\"\\n--------------\")\n",
    "    print(f\"Avarage accuracy of model in {num_of_samples} samples is: {acc_sum/num_of_samples}\")\n",
    "    "
   ],
   "id": "772d44860055bfe3",
   "outputs": [],
   "execution_count": 14
  },
  {
   "metadata": {},
   "cell_type": "markdown",
   "source": "### ZROBIC TUTAJ TAK ZEBY MOZNA BYLO ROZNE KONFIGURACJE TYCH SKLADANYCH DATAFRAMOW np. ze polaczenie mel i chroma to zeby mozna bylo tutaj napisac zeby uzyc danego polaczenia i Ci stworzy dataframe.",
   "id": "9c1269c1da87d518"
  },
  {
   "metadata": {
    "ExecuteTime": {
     "end_time": "2025-04-19T19:37:34.044134Z",
     "start_time": "2025-04-19T19:36:03.405258Z"
    }
   },
   "cell_type": "code",
   "outputs": [
    {
     "name": "stdout",
     "output_type": "stream",
     "text": [
      "Samples done: 10/10\u001B[K\n",
      "--------------\n",
      "Avarage accuracy of model in 10 samples is: 0.9965753424657533\n"
     ]
    }
   ],
   "execution_count": 17,
   "source": [
    "model = Conv1DClassifier(num_classes=43, input_shape=input_shape)\n",
    "model_trainer = ModelTrainer(model,device)\n",
    "evaluate_avarage_model_accuracy(model, device, early_stopping_rounds=3, num_epochs=15, num_of_samples=10)"
   ],
   "id": "19878933b043b052"
  }
 ],
 "metadata": {
  "kernelspec": {
   "display_name": "Python 3",
   "language": "python",
   "name": "python3"
  },
  "language_info": {
   "codemirror_mode": {
    "name": "ipython",
    "version": 2
   },
   "file_extension": ".py",
   "mimetype": "text/x-python",
   "name": "python",
   "nbconvert_exporter": "python",
   "pygments_lexer": "ipython2",
   "version": "2.7.6"
  }
 },
 "nbformat": 4,
 "nbformat_minor": 5
}
