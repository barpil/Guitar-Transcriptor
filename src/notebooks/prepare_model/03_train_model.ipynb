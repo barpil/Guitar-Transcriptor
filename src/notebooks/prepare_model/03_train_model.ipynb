{
 "cells": [
  {
   "metadata": {},
   "cell_type": "markdown",
   "source": "### Model Training",
   "id": "791908c8c7dc10c8"
  },
  {
   "metadata": {
    "ExecuteTime": {
     "end_time": "2025-04-15T12:23:51.379294Z",
     "start_time": "2025-04-15T12:23:50.770492Z"
    }
   },
   "cell_type": "code",
   "source": [
    "from src.myscripts.model import Conv1DClassifier\n",
    "import os\n",
    "import torch\n",
    "import torch.nn as nn\n",
    "from torch.utils.data import TensorDataset, DataLoader\n",
    "import numpy as np\n",
    "import config\n",
    "\n",
    "path=config.DATA_SPLIT_SAVE_DIR_PATH\n",
    "x_train= np.load(os.path.join(path, \"x_train.npy\"), allow_pickle=True)\n",
    "y_train= np.load(os.path.join(path, \"y_train.npy\"), allow_pickle=True)\n",
    "x_val= np.load(os.path.join(path, \"x_val.npy\"), allow_pickle=True)\n",
    "y_val= np.load(os.path.join(path, \"y_val.npy\"), allow_pickle=True)\n",
    "x_train = x_train.astype(np.float32)\n",
    "x_val = x_val.astype(np.float32)\n",
    "y_train = y_train.astype(\"long\")\n",
    "y_val = y_val.astype(\"long\")\n",
    "\n",
    "x_train_tensor = torch.tensor(x_train, dtype=torch.float32)\n",
    "y_train_tensor = torch.tensor(y_train, dtype=torch.long)\n",
    "x_val_tensor = torch.tensor(x_val, dtype=torch.float32)\n",
    "y_val_tensor = torch.tensor(y_val, dtype=torch.long)\n",
    "\n",
    "train_dataset = TensorDataset(x_train_tensor, y_train_tensor)\n",
    "val_dataset = TensorDataset(x_val_tensor, y_val_tensor)\n",
    "\n",
    "train_loader = DataLoader(train_dataset, batch_size=64, shuffle=True)\n",
    "val_loader = DataLoader(val_dataset, batch_size=64, shuffle=False)\n",
    "\n",
    "\n",
    "\n",
    "device = torch.device(\"cuda\" if torch.cuda.is_available() else \"cpu\")\n",
    "input_shape = x_train.shape[1:]  # (16000, 1)\n",
    "model = Conv1DClassifier(num_classes=43, input_shape=input_shape).to(device)\n",
    "criterion = nn.CrossEntropyLoss()\n",
    "optimizer = torch.optim.Adam(model.parameters(), lr=0.001)\n",
    "\n"
   ],
   "id": "c5e96ad36816956e",
   "outputs": [],
   "execution_count": 7
  },
  {
   "metadata": {
    "ExecuteTime": {
     "end_time": "2025-04-15T12:23:51.392417Z",
     "start_time": "2025-04-15T12:23:51.387335Z"
    }
   },
   "cell_type": "code",
   "source": "print(torch.cuda.is_available())",
   "id": "ef77a04ce562a8f5",
   "outputs": [
    {
     "name": "stdout",
     "output_type": "stream",
     "text": [
      "True\n"
     ]
    }
   ],
   "execution_count": 8
  },
  {
   "metadata": {
    "ExecuteTime": {
     "end_time": "2025-04-15T12:25:12.374033Z",
     "start_time": "2025-04-15T12:24:40.499708Z"
    }
   },
   "cell_type": "code",
   "source": [
    "from src.myscripts.model import EarlyStopping\n",
    "\n",
    "# Trenowanie\n",
    "epochs = 50\n",
    "early_stopping = EarlyStopping(patience=3, verbose=True)\n",
    "\n",
    "# Listy do przechowywania strat\n",
    "train_losses = []\n",
    "val_losses = []\n",
    "\n",
    "# Trenowanie modelu\n",
    "for epoch in range(epochs):\n",
    "    model.train()\n",
    "    running_loss = 0\n",
    "    correct = 0\n",
    "    for inputs, labels in train_loader:\n",
    "        inputs, labels = inputs.to(device), labels.to(device)\n",
    "\n",
    "        optimizer.zero_grad()\n",
    "        outputs = model(inputs)\n",
    "        loss = criterion(outputs, labels)\n",
    "        loss.backward()\n",
    "        optimizer.step()\n",
    "\n",
    "        running_loss += loss.item()\n",
    "        _, preds = torch.max(outputs, 1)\n",
    "        correct += torch.sum(preds == labels)\n",
    "\n",
    "    epoch_loss = running_loss / len(train_loader)\n",
    "    acc = correct.item() / len(train_loader.dataset)\n",
    "    print(f\"Epoch {epoch+1}/{epochs}, Loss: {epoch_loss:.4f}, Accuracy: {acc:.4f}\")\n",
    "\n",
    "    # Dodanie straty treningowej do listy\n",
    "    train_losses.append(epoch_loss)\n",
    "\n",
    "    # Ewaluacja na zbiorze walidacyjnym\n",
    "    model.eval()\n",
    "    val_loss = 0\n",
    "    correct = 0\n",
    "    with torch.no_grad():\n",
    "        for inputs, labels in val_loader:\n",
    "            inputs, labels = inputs.to(device), labels.to(device)\n",
    "            outputs = model(inputs)\n",
    "            loss = criterion(outputs, labels)\n",
    "            val_loss += loss.item()\n",
    "            _, preds = torch.max(outputs, 1)\n",
    "            correct += torch.sum(preds == labels)\n",
    "\n",
    "    val_loss /= len(val_loader)  # średnia strata na zbiorze walidacyjnym\n",
    "    val_accuracy = correct.item() / len(val_loader.dataset)\n",
    "    print(f\"Validation Loss: {val_loss:.4f}, Validation Accuracy: {val_accuracy:.4f}\")\n",
    "\n",
    "    # Dodanie straty walidacyjnej do listy\n",
    "    val_losses.append(val_loss)\n",
    "\n",
    "    # Sprawdzamy, czy należy zatrzymać trening\n",
    "    early_stopping(val_loss, model)\n",
    "\n",
    "    # Jeśli early stopping mówi \"stop\", przerywamy trening\n",
    "    if early_stopping.early_stop:\n",
    "        print(\"Early stopping triggered. Stopping training.\")\n",
    "        break\n",
    "\n",
    "# Ładujemy najlepszy model\n",
    "model = early_stopping.load_best_model(model)"
   ],
   "id": "5fd7d60e1b6e51e0",
   "outputs": [
    {
     "name": "stdout",
     "output_type": "stream",
     "text": [
      "Epoch 1/50, Loss: 0.2366, Accuracy: 0.9330\n",
      "Validation Loss: 0.1918, Validation Accuracy: 0.9862\n",
      "Epoch 2/50, Loss: 0.2674, Accuracy: 0.9350\n",
      "Validation Loss: 0.2435, Validation Accuracy: 0.9793\n",
      "Validation loss did not improve for 1 epochs.\n",
      "Epoch 3/50, Loss: 0.1765, Accuracy: 0.9369\n",
      "Validation Loss: 0.1927, Validation Accuracy: 0.9793\n",
      "Validation loss did not improve for 2 epochs.\n",
      "Epoch 4/50, Loss: 0.1692, Accuracy: 0.9596\n",
      "Validation Loss: 0.2275, Validation Accuracy: 0.9759\n",
      "Validation loss did not improve for 3 epochs.\n",
      "Epoch 5/50, Loss: 0.1414, Accuracy: 0.9586\n",
      "Validation Loss: 0.2446, Validation Accuracy: 0.9793\n",
      "Validation loss did not improve for 4 epochs.\n",
      "Epoch 6/50, Loss: 0.1184, Accuracy: 0.9557\n",
      "Validation Loss: 0.3551, Validation Accuracy: 0.9759\n",
      "Validation loss did not improve for 5 epochs.\n",
      "Epoch 7/50, Loss: 0.1513, Accuracy: 0.9557\n",
      "Validation Loss: 0.2596, Validation Accuracy: 0.9724\n",
      "Validation loss did not improve for 6 epochs.\n",
      "Epoch 8/50, Loss: 0.1043, Accuracy: 0.9665\n",
      "Validation Loss: 0.3407, Validation Accuracy: 0.9690\n",
      "Validation loss did not improve for 7 epochs.\n",
      "Epoch 9/50, Loss: 0.2291, Accuracy: 0.9626\n",
      "Validation Loss: 0.1665, Validation Accuracy: 0.9793\n",
      "Epoch 10/50, Loss: 0.1490, Accuracy: 0.9606\n",
      "Validation Loss: 0.1911, Validation Accuracy: 0.9655\n",
      "Validation loss did not improve for 1 epochs.\n",
      "Epoch 11/50, Loss: 0.1288, Accuracy: 0.9635\n",
      "Validation Loss: 0.2383, Validation Accuracy: 0.9759\n",
      "Validation loss did not improve for 2 epochs.\n",
      "Epoch 12/50, Loss: 0.1219, Accuracy: 0.9606\n",
      "Validation Loss: 0.2701, Validation Accuracy: 0.9793\n",
      "Validation loss did not improve for 3 epochs.\n",
      "Epoch 13/50, Loss: 0.1233, Accuracy: 0.9606\n",
      "Validation Loss: 0.3809, Validation Accuracy: 0.9828\n",
      "Validation loss did not improve for 4 epochs.\n",
      "Epoch 14/50, Loss: 0.1051, Accuracy: 0.9754\n",
      "Validation Loss: 0.4742, Validation Accuracy: 0.9759\n",
      "Validation loss did not improve for 5 epochs.\n",
      "Epoch 15/50, Loss: 0.1202, Accuracy: 0.9655\n",
      "Validation Loss: 0.2985, Validation Accuracy: 0.9828\n",
      "Validation loss did not improve for 6 epochs.\n",
      "Epoch 16/50, Loss: 0.1070, Accuracy: 0.9675\n",
      "Validation Loss: 0.2905, Validation Accuracy: 0.9828\n",
      "Validation loss did not improve for 7 epochs.\n",
      "Epoch 17/50, Loss: 0.1067, Accuracy: 0.9704\n",
      "Validation Loss: 0.3180, Validation Accuracy: 0.9793\n",
      "Validation loss did not improve for 8 epochs.\n",
      "Epoch 18/50, Loss: 0.0621, Accuracy: 0.9773\n",
      "Validation Loss: 0.3888, Validation Accuracy: 0.9828\n",
      "Validation loss did not improve for 9 epochs.\n",
      "Epoch 19/50, Loss: 0.0939, Accuracy: 0.9675\n",
      "Validation Loss: 0.3472, Validation Accuracy: 0.9793\n",
      "Validation loss did not improve for 10 epochs.\n",
      "Epoch 20/50, Loss: 0.0730, Accuracy: 0.9793\n",
      "Validation Loss: 0.3641, Validation Accuracy: 0.9828\n",
      "Validation loss did not improve for 11 epochs.\n",
      "Epoch 21/50, Loss: 0.0698, Accuracy: 0.9773\n",
      "Validation Loss: 0.3899, Validation Accuracy: 0.9828\n",
      "Validation loss did not improve for 12 epochs.\n",
      "Epoch 22/50, Loss: 0.0862, Accuracy: 0.9764\n",
      "Validation Loss: 0.3856, Validation Accuracy: 0.9828\n",
      "Validation loss did not improve for 13 epochs.\n",
      "Epoch 23/50, Loss: 0.0663, Accuracy: 0.9813\n",
      "Validation Loss: 0.2928, Validation Accuracy: 0.9828\n",
      "Validation loss did not improve for 14 epochs.\n",
      "Epoch 24/50, Loss: 0.0471, Accuracy: 0.9833\n",
      "Validation Loss: 0.2522, Validation Accuracy: 0.9828\n",
      "Validation loss did not improve for 15 epochs.\n",
      "Epoch 25/50, Loss: 0.0643, Accuracy: 0.9783\n",
      "Validation Loss: 0.2571, Validation Accuracy: 0.9828\n",
      "Validation loss did not improve for 16 epochs.\n",
      "Epoch 26/50, Loss: 0.0635, Accuracy: 0.9803\n",
      "Validation Loss: 0.3525, Validation Accuracy: 0.9759\n",
      "Validation loss did not improve for 17 epochs.\n",
      "Epoch 27/50, Loss: 0.0379, Accuracy: 0.9882\n",
      "Validation Loss: 0.4975, Validation Accuracy: 0.9793\n",
      "Validation loss did not improve for 18 epochs.\n",
      "Epoch 28/50, Loss: 0.0854, Accuracy: 0.9783\n",
      "Validation Loss: 0.2749, Validation Accuracy: 0.9759\n",
      "Validation loss did not improve for 19 epochs.\n",
      "Epoch 29/50, Loss: 0.0614, Accuracy: 0.9823\n",
      "Validation Loss: 0.3877, Validation Accuracy: 0.9793\n",
      "Validation loss did not improve for 20 epochs.\n",
      "Epoch 30/50, Loss: 0.0476, Accuracy: 0.9882\n",
      "Validation Loss: 0.2863, Validation Accuracy: 0.9793\n",
      "Validation loss did not improve for 21 epochs.\n",
      "Epoch 31/50, Loss: 0.0445, Accuracy: 0.9842\n",
      "Validation Loss: 0.4572, Validation Accuracy: 0.9759\n",
      "Validation loss did not improve for 22 epochs.\n",
      "Epoch 32/50, Loss: 0.0521, Accuracy: 0.9842\n",
      "Validation Loss: 0.5589, Validation Accuracy: 0.9828\n",
      "Validation loss did not improve for 23 epochs.\n",
      "Epoch 33/50, Loss: 0.0543, Accuracy: 0.9852\n",
      "Validation Loss: 0.3818, Validation Accuracy: 0.9724\n",
      "Validation loss did not improve for 24 epochs.\n"
     ]
    },
    {
     "ename": "KeyboardInterrupt",
     "evalue": "",
     "output_type": "error",
     "traceback": [
      "\u001B[1;31m---------------------------------------------------------------------------\u001B[0m",
      "\u001B[1;31mKeyboardInterrupt\u001B[0m                         Traceback (most recent call last)",
      "Cell \u001B[1;32mIn[11], line 25\u001B[0m\n\u001B[0;32m     22\u001B[0m loss\u001B[38;5;241m.\u001B[39mbackward()\n\u001B[0;32m     23\u001B[0m optimizer\u001B[38;5;241m.\u001B[39mstep()\n\u001B[1;32m---> 25\u001B[0m running_loss \u001B[38;5;241m+\u001B[39m\u001B[38;5;241m=\u001B[39m \u001B[43mloss\u001B[49m\u001B[38;5;241;43m.\u001B[39;49m\u001B[43mitem\u001B[49m\u001B[43m(\u001B[49m\u001B[43m)\u001B[49m\n\u001B[0;32m     26\u001B[0m _, preds \u001B[38;5;241m=\u001B[39m torch\u001B[38;5;241m.\u001B[39mmax(outputs, \u001B[38;5;241m1\u001B[39m)\n\u001B[0;32m     27\u001B[0m correct \u001B[38;5;241m+\u001B[39m\u001B[38;5;241m=\u001B[39m torch\u001B[38;5;241m.\u001B[39msum(preds \u001B[38;5;241m==\u001B[39m labels)\n",
      "\u001B[1;31mKeyboardInterrupt\u001B[0m: "
     ]
    }
   ],
   "execution_count": 11
  },
  {
   "metadata": {
    "ExecuteTime": {
     "end_time": "2025-04-15T12:24:12.568190Z",
     "start_time": "2025-04-15T12:24:12.550521Z"
    }
   },
   "cell_type": "code",
   "source": "torch.save(model.state_dict(),f\"{os.path.join(config.MODEL_PATH, type(model).__name__)}.pth\")",
   "id": "7a1c1fafc96e08ca",
   "outputs": [
    {
     "ename": "AttributeError",
     "evalue": "module 'config' has no attribute 'MODEL_PATH'",
     "output_type": "error",
     "traceback": [
      "\u001B[1;31m---------------------------------------------------------------------------\u001B[0m",
      "\u001B[1;31mAttributeError\u001B[0m                            Traceback (most recent call last)",
      "Cell \u001B[1;32mIn[10], line 1\u001B[0m\n\u001B[1;32m----> 1\u001B[0m torch\u001B[38;5;241m.\u001B[39msave(model\u001B[38;5;241m.\u001B[39mstate_dict(),\u001B[38;5;124mf\u001B[39m\u001B[38;5;124m\"\u001B[39m\u001B[38;5;132;01m{\u001B[39;00mos\u001B[38;5;241m.\u001B[39mpath\u001B[38;5;241m.\u001B[39mjoin(\u001B[43mconfig\u001B[49m\u001B[38;5;241;43m.\u001B[39;49m\u001B[43mMODEL_PATH\u001B[49m,\u001B[38;5;250m \u001B[39m\u001B[38;5;28mtype\u001B[39m(model)\u001B[38;5;241m.\u001B[39m\u001B[38;5;18m__name__\u001B[39m)\u001B[38;5;132;01m}\u001B[39;00m\u001B[38;5;124m.pth\u001B[39m\u001B[38;5;124m\"\u001B[39m)\n",
      "\u001B[1;31mAttributeError\u001B[0m: module 'config' has no attribute 'MODEL_PATH'"
     ]
    }
   ],
   "execution_count": 10
  },
  {
   "metadata": {
    "ExecuteTime": {
     "end_time": "2025-04-15T12:24:12.571706900Z",
     "start_time": "2025-04-13T17:14:39.360166Z"
    }
   },
   "cell_type": "code",
   "source": [
    "np.save(f\"C:/Users/Bcom_/Documents/Projekty/Rozpoznawanie_dzwiekow_gitarowych/data/model_history/{type(model).__name__}_val_losses.npy\",val_losses)\n",
    "np.save(f\"C:/Users/Bcom_/Documents/Projekty/Rozpoznawanie_dzwiekow_gitarowych/data/model_history/{type(model).__name__}_train_losses.npy\",train_losses)"
   ],
   "id": "1d9a68add1ebaf9e",
   "outputs": [],
   "execution_count": 6
  },
  {
   "metadata": {},
   "cell_type": "code",
   "outputs": [],
   "execution_count": null,
   "source": "",
   "id": "114068bb52590acb"
  }
 ],
 "metadata": {
  "kernelspec": {
   "display_name": "Python 3",
   "language": "python",
   "name": "python3"
  },
  "language_info": {
   "codemirror_mode": {
    "name": "ipython",
    "version": 2
   },
   "file_extension": ".py",
   "mimetype": "text/x-python",
   "name": "python",
   "nbconvert_exporter": "python",
   "pygments_lexer": "ipython2",
   "version": "2.7.6"
  }
 },
 "nbformat": 4,
 "nbformat_minor": 5
}
