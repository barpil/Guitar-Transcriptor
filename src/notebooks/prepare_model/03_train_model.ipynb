{
 "cells": [
  {
   "metadata": {},
   "cell_type": "markdown",
   "source": "### Model Training",
   "id": "791908c8c7dc10c8"
  },
  {
   "metadata": {
    "ExecuteTime": {
     "end_time": "2025-04-19T18:19:00.590563Z",
     "start_time": "2025-04-19T18:18:50.751940Z"
    }
   },
   "cell_type": "code",
   "source": [
    "from src.myscripts.model import Conv1DClassifier\n",
    "import os\n",
    "import torch\n",
    "from torch.utils.data import TensorDataset, DataLoader\n",
    "import numpy as np\n",
    "import config\n",
    "from src.myscripts.train import ModelTrainer\n",
    "\n",
    "path=config.DATA_SPLIT_SAVE_DIR_PATH\n",
    "x_train= np.load(os.path.join(path, \"x_train.npy\"), allow_pickle=True)\n",
    "y_train= np.load(os.path.join(path, \"y_train.npy\"), allow_pickle=True)\n",
    "x_val= np.load(os.path.join(path, \"x_val.npy\"), allow_pickle=True)\n",
    "y_val= np.load(os.path.join(path, \"y_val.npy\"), allow_pickle=True)\n",
    "x_train = x_train.astype(np.float32)\n",
    "x_val = x_val.astype(np.float32)\n",
    "y_train = y_train.astype(\"long\")\n",
    "y_val = y_val.astype(\"long\")\n",
    "\n",
    "x_train_tensor = torch.tensor(x_train, dtype=torch.float32)\n",
    "y_train_tensor = torch.tensor(y_train, dtype=torch.long)\n",
    "x_val_tensor = torch.tensor(x_val, dtype=torch.float32)\n",
    "y_val_tensor = torch.tensor(y_val, dtype=torch.long)\n",
    "\n",
    "train_dataset = TensorDataset(x_train_tensor, y_train_tensor)\n",
    "val_dataset = TensorDataset(x_val_tensor, y_val_tensor)\n",
    "\n",
    "device = torch.device(\"cuda\" if torch.cuda.is_available() else \"cpu\")\n",
    "input_shape = x_train.shape[1:]\n",
    "model = Conv1DClassifier(num_classes=43, input_shape=input_shape)\n",
    "\n",
    "\n"
   ],
   "id": "c5e96ad36816956e",
   "outputs": [
    {
     "name": "stdout",
     "output_type": "stream",
     "text": [
      "C:\\Users\\Bcom_\\Documents\\Projekty\\Rozpoznawanie_dzwiekow_gitarowych\\data\\prepared_data\n"
     ]
    }
   ],
   "execution_count": 1
  },
  {
   "metadata": {
    "ExecuteTime": {
     "end_time": "2025-04-19T18:19:00.625635Z",
     "start_time": "2025-04-19T18:19:00.616906Z"
    }
   },
   "cell_type": "code",
   "source": "print(torch.cuda.is_available())",
   "id": "ef77a04ce562a8f5",
   "outputs": [
    {
     "name": "stdout",
     "output_type": "stream",
     "text": [
      "True\n"
     ]
    }
   ],
   "execution_count": 2
  },
  {
   "metadata": {
    "ExecuteTime": {
     "end_time": "2025-04-19T18:19:20.507907Z",
     "start_time": "2025-04-19T18:19:01.157398Z"
    }
   },
   "cell_type": "code",
   "source": [
    "model_trainer = ModelTrainer(model, device)\n",
    "model_trainer.train_model(train_dataset, val_dataset)\n",
    "# Ładujemy najlepszy model\n",
    "model = model_trainer.get_trained_model()\n",
    "train_losses, val_losses = model_trainer.get_loss_data()"
   ],
   "id": "5fd7d60e1b6e51e0",
   "outputs": [
    {
     "name": "stdout",
     "output_type": "stream",
     "text": [
      "Epoch 1/10, Loss: 3.6969, Accuracy: 0.0867\n",
      "Validation Loss: 2.5143, Validation Accuracy: 0.5690\n",
      "Epoch 2/10, Loss: 2.4977, Accuracy: 0.3714\n",
      "Validation Loss: 1.2778, Validation Accuracy: 0.8103\n",
      "Epoch 3/10, Loss: 1.6602, Accuracy: 0.5833\n",
      "Validation Loss: 0.7009, Validation Accuracy: 0.9241\n",
      "Epoch 4/10, Loss: 1.0804, Accuracy: 0.7251\n",
      "Validation Loss: 0.4367, Validation Accuracy: 0.9517\n",
      "Epoch 5/10, Loss: 0.6611, Accuracy: 0.8069\n",
      "Validation Loss: 0.2667, Validation Accuracy: 0.9552\n",
      "Epoch 6/10, Loss: 0.4572, Accuracy: 0.8581\n",
      "Validation Loss: 0.3627, Validation Accuracy: 0.9690\n",
      "Validation loss did not improve for 1 epochs.\n",
      "Epoch 7/10, Loss: 0.4306, Accuracy: 0.8778\n",
      "Validation Loss: 0.1883, Validation Accuracy: 0.9828\n",
      "Epoch 8/10, Loss: 0.3164, Accuracy: 0.9044\n",
      "Validation Loss: 0.2734, Validation Accuracy: 0.9690\n",
      "Validation loss did not improve for 1 epochs.\n",
      "Epoch 9/10, Loss: 0.2896, Accuracy: 0.9261\n",
      "Validation Loss: 0.1615, Validation Accuracy: 0.9724\n",
      "Epoch 10/10, Loss: 0.2664, Accuracy: 0.9310\n",
      "Validation Loss: 0.1895, Validation Accuracy: 0.9759\n",
      "Validation loss did not improve for 1 epochs.\n"
     ]
    }
   ],
   "execution_count": 3
  },
  {
   "metadata": {
    "ExecuteTime": {
     "end_time": "2025-04-19T18:19:20.983298Z",
     "start_time": "2025-04-19T18:19:20.569737Z"
    }
   },
   "cell_type": "code",
   "source": "torch.save(model.state_dict(),f\"{os.path.join(config.MODEL_DIR_PATH, type(model).__name__)}.pth\")",
   "id": "7a1c1fafc96e08ca",
   "outputs": [],
   "execution_count": 4
  },
  {
   "metadata": {
    "ExecuteTime": {
     "end_time": "2025-04-19T18:19:20.997393Z",
     "start_time": "2025-04-19T18:19:20.983298Z"
    }
   },
   "cell_type": "code",
   "source": [
    "np.save(f\"{os.path.join(config.MODEL_HISTORY_DIR_PATH, type(model).__name__)}_val_losses.npy\",val_losses)\n",
    "np.save(f\"{os.path.join(config.MODEL_HISTORY_DIR_PATH, type(model).__name__)}_train_losses.npy\",train_losses)"
   ],
   "id": "1d9a68add1ebaf9e",
   "outputs": [],
   "execution_count": 5
  }
 ],
 "metadata": {
  "kernelspec": {
   "display_name": "Python 3",
   "language": "python",
   "name": "python3"
  },
  "language_info": {
   "codemirror_mode": {
    "name": "ipython",
    "version": 2
   },
   "file_extension": ".py",
   "mimetype": "text/x-python",
   "name": "python",
   "nbconvert_exporter": "python",
   "pygments_lexer": "ipython2",
   "version": "2.7.6"
  }
 },
 "nbformat": 4,
 "nbformat_minor": 5
}
