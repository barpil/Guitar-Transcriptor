{
 "cells": [
  {
   "metadata": {},
   "cell_type": "markdown",
   "source": "### Data preparation for model to use",
   "id": "e545c960d00bd5af"
  },
  {
   "metadata": {
    "jupyter": {
     "is_executing": true
    }
   },
   "cell_type": "code",
   "source": [
    "import pandas as pd\n",
    "\n",
    "data = pd.read_csv(\"../data/dataframes/sound_data.csv\")"
   ],
   "id": "d740af7a42bbb34",
   "outputs": [],
   "execution_count": null
  },
  {
   "metadata": {
    "ExecuteTime": {
     "end_time": "2025-04-14T12:45:55.072807500Z",
     "start_time": "2025-04-13T15:57:20.451199Z"
    }
   },
   "cell_type": "code",
   "source": [
    "from sklearn.preprocessing import LabelEncoder\n",
    "from src.myscripts import prepare_data\n",
    "\n",
    "prepare_data.prepare_data_for_model(data, -1, LabelEncoder, [0.7, 0.2, 0.1])"
   ],
   "id": "3dd2a488c8bf4654",
   "outputs": [
    {
     "name": "stdout",
     "output_type": "stream",
     "text": [
      "Prepared data saved in: C:\\Users\\Bcom_\\Documents\\Projekty\\Rozpoznawanie_dzwiekow_gitarowych\\data\\prepared_data.\n",
      "Data shape confirmation:\n",
      "x_train:(1015, 6160, 1)\n",
      "y_train:(1015,)\n",
      "x_val:(290, 6160, 1)\n",
      "y_val:(290,)\n",
      "x_test:(146, 6160, 1)\n",
      "y_test:(146,)\n",
      "\n",
      "Number of classes: 43\n"
     ]
    }
   ],
   "execution_count": 4
  }
 ],
 "metadata": {
  "kernelspec": {
   "display_name": "Python 3",
   "language": "python",
   "name": "python3"
  },
  "language_info": {
   "codemirror_mode": {
    "name": "ipython",
    "version": 2
   },
   "file_extension": ".py",
   "mimetype": "text/x-python",
   "name": "python",
   "nbconvert_exporter": "python",
   "pygments_lexer": "ipython2",
   "version": "2.7.6"
  }
 },
 "nbformat": 4,
 "nbformat_minor": 5
}
